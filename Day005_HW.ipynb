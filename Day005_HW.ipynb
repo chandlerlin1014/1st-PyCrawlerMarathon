{
 "cells": [
  {
   "cell_type": "markdown",
   "metadata": {},
   "source": [
    "# API 資料串接 - 以 Dcard API 實作範例\n",
    "\n",
    "* 了解 Dcard API 使用方式與回傳內容\n",
    "* 撰寫程式存取 API 且解析 JSON 格式資料\n"
   ]
  },
  {
   "cell_type": "markdown",
   "metadata": {},
   "source": [
    "## 作業目標\n",
    "\n",
    "* 請利用 API: https://www.dcard.tw/_api/forums/pet/posts?popular=true 回答下列問題：\n",
    "\n",
    "1. 這個 API 一次會回傳幾筆資料？每一筆資料包含哪些欄位？\n",
    "2. 取出每一筆資料的「標題」、「貼文時間」、「留言人數」、「按讚人數」\n",
    "3. 計算熱門/非熱門文章的「平均留言人數」與「平均按讚人數」"
   ]
  },
  {
   "cell_type": "code",
   "execution_count": 1,
   "metadata": {},
   "outputs": [
    {
     "name": "stdout",
     "output_type": "stream",
     "text": [
      "30\n",
      "{'id': 232615789, 'title': '比特BB的心酸', 'excerpt': '今年6月，男友姐姐抓了一隻比特回家，4個月大還是BB，名字是Diamond， 但常常叫他阿呆或呆門，大家對比特的印象不外乎是「攻擊性強」「很危險」之類的聯想，但是我覺得我們家呆門完全跟這些名詞絕緣，姐', 'anonymousSchool': False, 'anonymousDepartment': False, 'pinned': False, 'forumId': '7ee21581-1307-4ba9-b9dc-82028bdcca49', 'replyId': None, 'createdAt': '2019-12-03T03:00:15.230Z', 'updatedAt': '2019-12-04T08:45:04.028Z', 'commentCount': 84, 'likeCount': 840, 'withNickname': True, 'tags': [], 'topics': ['狗', '比特', '寵物', '可愛'], 'meta': {'layout': 'classic'}, 'forumName': '寵物', 'forumAlias': 'pet', 'gender': 'F', 'school': '比特呆門的舅媽', 'department': 'pit.di.amond', 'replyTitle': None, 'mediaMeta': [{'id': 'fb8fa410-f959-4a22-8c2e-18db457d7aaa', 'url': 'https://i.imgur.com/JMy8UMBl.jpg', 'normalizedUrl': 'https://i.imgur.com/JMy8UMBl.jpg', 'thumbnail': 'https://i.imgur.com/JMy8UMBl.jpg', 'type': 'image/thumbnail', 'tags': ['ANNOTATED'], 'createdAt': '2019-12-03T03:00:15.230Z', 'updatedAt': '2019-12-04T08:45:04.028Z'}, {'id': 'fb8fa410-f959-4a22-8c2e-18db457d7aaa', 'url': 'https://i.imgur.com/JMy8UMB.jpg', 'normalizedUrl': 'https://imgur.com/JMy8UMB', 'thumbnail': 'https://i.imgur.com/JMy8UMBl.jpg', 'type': 'image/imgur', 'tags': ['ANNOTATED'], 'createdAt': '2019-12-03T03:00:15.230Z', 'updatedAt': '2019-12-04T08:45:04.028Z'}, {'id': '0e1e0ecc-4462-402d-ba69-dc5930ba3a39', 'url': 'https://www.dcard.tw/v2/vivid/videos/17879de1-2987-45cc-950e-5c1c4a96ff7d?r=1.7647058823529411', 'normalizedUrl': '', 'thumbnail': 'https://vivid.dcard.tw/Public/17879de1-2987-45cc-950e-5c1c4a96ff7d/thumbnail.jpg', 'type': 'video/vivid', 'tags': ['ANNOTATED_FAILED'], 'createdAt': '2019-12-03T08:17:39.284Z', 'updatedAt': '2019-12-04T08:45:04.028Z'}, {'id': 'c717c100-6d45-4edd-96db-2d134cb39307', 'url': 'https://i.imgur.com/LXgCZYO.jpg', 'normalizedUrl': 'https://imgur.com/LXgCZYO', 'thumbnail': 'https://i.imgur.com/LXgCZYOl.jpg', 'type': 'image/imgur', 'tags': ['ANNOTATED'], 'createdAt': '2019-12-03T03:00:15.230Z', 'updatedAt': '2019-12-04T08:45:04.028Z'}, {'id': '67f6e6a8-609f-4cf8-8df7-b24b82bdb1f3', 'url': 'https://i.imgur.com/tg7CL8j.jpg', 'normalizedUrl': 'https://imgur.com/tg7CL8j', 'thumbnail': 'https://i.imgur.com/tg7CL8jl.jpg', 'type': 'image/imgur', 'tags': ['ANNOTATED'], 'createdAt': '2019-12-03T03:00:15.230Z', 'updatedAt': '2019-12-04T08:45:04.028Z'}, {'id': 'b86c7611-d77a-4a04-ae69-8d774c617f33', 'url': 'https://i.imgur.com/GCGd7me.jpg', 'normalizedUrl': 'https://imgur.com/GCGd7me', 'thumbnail': 'https://i.imgur.com/GCGd7mel.jpg', 'type': 'image/imgur', 'tags': ['ANNOTATED'], 'createdAt': '2019-12-03T03:00:15.230Z', 'updatedAt': '2019-12-04T08:45:04.028Z'}, {'id': '51fc1c8d-16e3-4fce-8da7-1726b9ae716d', 'url': 'https://i.imgur.com/sl1YTuM.jpg', 'normalizedUrl': 'https://imgur.com/sl1YTuM', 'thumbnail': 'https://i.imgur.com/sl1YTuMl.jpg', 'type': 'image/imgur', 'tags': ['ANNOTATED'], 'createdAt': '2019-12-03T03:00:15.230Z', 'updatedAt': '2019-12-04T08:45:04.028Z'}, {'id': 'bb524f0b-f52a-4b03-a549-4c2c33654392', 'url': 'https://i.imgur.com/7d8vfkM.jpg', 'normalizedUrl': 'https://imgur.com/7d8vfkM', 'thumbnail': 'https://i.imgur.com/7d8vfkMl.jpg', 'type': 'image/imgur', 'tags': ['ANNOTATED'], 'createdAt': '2019-12-03T03:00:15.230Z', 'updatedAt': '2019-12-04T08:45:04.028Z'}], 'reactions': [{'id': '286f599c-f86a-4932-82f0-f5a06f1eca03', 'count': 833}, {'id': 'aa0d425f-d530-4478-9a77-fe3aedc79eea', 'count': 4}, {'id': 'e8e6bc5d-41b0-4129-b134-97507523d7ff', 'count': 2}, {'id': '514c2569-fd53-4d9d-a415-bf0f88e7329f', 'count': 1}], 'hidden': False, 'customStyle': None, 'isSuspiciousAccount': False, 'layout': 'classic', 'withImages': True, 'withVideos': True, 'media': [{'url': 'https://i.imgur.com/JMy8UMB.jpg'}, {'url': 'https://vivid.dcard.tw/Public/17879de1-2987-45cc-950e-5c1c4a96ff7d/thumbnail.jpg'}, {'url': 'https://i.imgur.com/LXgCZYO.jpg'}, {'url': 'https://i.imgur.com/tg7CL8j.jpg'}, {'url': 'https://i.imgur.com/GCGd7me.jpg'}, {'url': 'https://i.imgur.com/sl1YTuM.jpg'}, {'url': 'https://i.imgur.com/7d8vfkM.jpg'}], 'reportReasonText': '', 'postAvatar': ''}\n"
     ]
    }
   ],
   "source": [
    "# 1. 這個 API 一次會回傳幾筆資料？每一筆資料包含哪些欄位？\n",
    "\n",
    "import requests\n",
    "import json\n",
    "\n",
    "r = requests.get('https://www.dcard.tw/_api/forums/pet/posts?popular=true')\n",
    "response = r.text\n",
    "\n",
    "data = json.loads(response)\n",
    "print(len(data))\n",
    "\n",
    "print(data[0])"
   ]
  },
  {
   "cell_type": "code",
   "execution_count": 2,
   "metadata": {},
   "outputs": [
    {
     "name": "stdout",
     "output_type": "stream",
     "text": [
      "比特BB的心酸\n",
      "2019-12-03T03:00:15.230Z\n",
      "84\n",
      "840\n",
      "＃過敏兒集合 ✨淨化空氣の神器 F101空氣清淨機✨ 拯救鼻子的好幫手\n",
      "2019-12-04T07:00:21.443Z\n",
      "2\n",
      "516\n",
      "#CP值爆棚🔥包準可以安心侍奉主子們的安心居家清潔劑～隆重登場！\n",
      "2019-12-03T07:01:36.591Z\n",
      "7\n",
      "307\n",
      "掌上明鼠🐹\n",
      "2019-12-03T10:33:32.723Z\n",
      "11\n",
      "160\n",
      "寵物溝通師\n",
      "2019-12-03T06:15:01.532Z\n",
      "9\n",
      "82\n",
      "#圖多 我家的玩偶狗\n",
      "2019-12-04T04:48:02.693Z\n",
      "7\n",
      "76\n",
      "有人家的貓貓也會有這種反應嗎\n",
      "2019-12-03T21:02:41.770Z\n",
      "8\n",
      "64\n",
      "同學你的倉鼠😍😍\n",
      "2019-12-03T05:57:24.855Z\n",
      "2\n",
      "53\n",
      "冬天到了。躺在床上滑手機 。\n",
      "2019-12-03T23:53:16.051Z\n",
      "3\n",
      "50\n",
      "有養蛇的朋友嗎\n",
      "2019-12-03T10:26:07.132Z\n",
      "29\n",
      "50\n",
      "板橋狗狗走失協尋🙏🏻\n",
      "2019-12-03T08:12:02.860Z\n",
      "1\n",
      "39\n",
      "命案現場\n",
      "2019-12-03T14:15:30.889Z\n",
      "3\n",
      "33\n",
      "內有惡貓\n",
      "2019-12-04T05:28:26.991Z\n",
      "8\n",
      "26\n",
      "尋找異父異母的兄弟\n",
      "2019-12-04T02:19:16.100Z\n",
      "0\n",
      "23\n",
      "臘臘日腸 狗生很忙\n",
      "2019-12-03T09:35:22.592Z\n",
      "4\n",
      "22\n",
      "鼠鼠跑步機\n",
      "2019-12-03T05:19:42.813Z\n",
      "6\n",
      "22\n",
      "蜥門慶硬硬硬硬硬\n",
      "2019-12-03T15:42:20.058Z\n",
      "6\n",
      "21\n",
      "#圖 沒想到你有這種癖好⋯⋯\n",
      "2019-12-03T14:45:02.471Z\n",
      "2\n",
      "21\n",
      "貓的手手有出現🌈💕\n",
      "2019-12-04T01:44:05.031Z\n",
      "0\n",
      "20\n",
      "最近想養布偶貓\n",
      "2019-12-03T05:00:37.016Z\n",
      "20\n",
      "20\n",
      "同學你的貓貓被通緝了~\n",
      "2019-12-04T09:47:17.828Z\n",
      "3\n",
      "18\n",
      "來求個食物ㄉ\n",
      "2019-12-03T17:02:13.202Z\n",
      "3\n",
      "18\n",
      "阿泥成長史1M->4M\n",
      "2019-12-03T09:05:53.332Z\n",
      "2\n",
      "16\n",
      "小呆鼠🐹🐹🐹\n",
      "2019-12-03T04:23:39.130Z\n",
      "2\n",
      "16\n",
      "#圖多  辦公室黑貓 歐嚕嚕\n",
      "2019-12-04T07:10:32.716Z\n",
      "3\n",
      "15\n",
      "寵物協尋~拜託桃園的朋友可以多多留意\n",
      "2019-12-03T10:23:17.008Z\n",
      "1\n",
      "15\n",
      "小貓認養\n",
      "2019-12-04T08:40:41.961Z\n",
      "7\n",
      "14\n",
      "貓咪怎麼老這樣坐著\n",
      "2019-12-03T14:09:30.316Z\n",
      "0\n",
      "11\n",
      "貓長腫瘤 #問\n",
      "2019-12-03T13:57:46.871Z\n",
      "11\n",
      "11\n",
      "#圖 我家那隻又愛又恨的臭兔兔＆用品分享\n",
      "2019-12-03T14:27:21.303Z\n",
      "9\n",
      "10\n"
     ]
    }
   ],
   "source": [
    "# 2. 取出每一筆資料的「標題」、「貼文時間」、「留言人數」、「按讚人數」\n",
    "\n",
    "for d in data:\n",
    "    print(d['title'])\n",
    "    print(d['createdAt'])\n",
    "    print(d['commentCount'])\n",
    "    print(d['likeCount'])"
   ]
  },
  {
   "cell_type": "code",
   "execution_count": 3,
   "metadata": {},
   "outputs": [
    {
     "name": "stdout",
     "output_type": "stream",
     "text": [
      "熱門文章[平均留言人數]:  8.433333333333334 熱門文章[平均按讚人數]:  86.3\n",
      "非熱門文章[平均留言人數]:  2.2333333333333334 非熱門文章[平均按讚人數]:  1.6\n"
     ]
    }
   ],
   "source": [
    "# 3. 計算熱門/非熱門文章的「平均留言人數」與「平均按讚人數」\n",
    "\n",
    "commentCount = 0\n",
    "likeCount = 0\n",
    "for d in data:\n",
    "    commentCount += d['commentCount']\n",
    "    likeCount += d['likeCount']\n",
    "\n",
    "print(\"熱門文章[平均留言人數]: \",commentCount/len(data), \"熱門文章[平均按讚人數]: \",likeCount/len(data))\n",
    "\n",
    "r = requests.get('https://www.dcard.tw/_api/forums/job/posts?popular=false')\n",
    "response = r.text\n",
    "data = json.loads(response)\n",
    "commentCount = 0\n",
    "likeCount = 0\n",
    "for d in data:\n",
    "    commentCount += d['commentCount']\n",
    "    likeCount += d['likeCount']\n",
    "\n",
    "print(\"非熱門文章[平均留言人數]: \",commentCount/len(data), \"非熱門文章[平均按讚人數]: \",likeCount/len(data))\n",
    "    "
   ]
  },
  {
   "cell_type": "code",
   "execution_count": null,
   "metadata": {},
   "outputs": [],
   "source": []
  },
  {
   "cell_type": "code",
   "execution_count": null,
   "metadata": {},
   "outputs": [],
   "source": []
  }
 ],
 "metadata": {
  "kernelspec": {
   "display_name": "Python 3",
   "language": "python",
   "name": "python3"
  },
  "language_info": {
   "codemirror_mode": {
    "name": "ipython",
    "version": 3
   },
   "file_extension": ".py",
   "mimetype": "text/x-python",
   "name": "python",
   "nbconvert_exporter": "python",
   "pygments_lexer": "ipython3",
   "version": "3.6.5"
  }
 },
 "nbformat": 4,
 "nbformat_minor": 2
}
